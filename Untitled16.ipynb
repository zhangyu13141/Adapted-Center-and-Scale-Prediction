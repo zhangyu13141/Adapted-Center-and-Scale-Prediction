{
  "nbformat": 4,
  "nbformat_minor": 0,
  "metadata": {
    "colab": {
      "name": "Untitled16.ipynb",
      "provenance": [],
      "machine_shape": "hm",
      "mount_file_id": "1kpEDbhT6tNIwYXh-rBaboDPdvhIz3L4D",
      "authorship_tag": "ABX9TyMwudQwkBjlypfwrYVnhh1C",
      "include_colab_link": true
    },
    "kernelspec": {
      "display_name": "Python 3",
      "name": "python3"
    }
  },
  "cells": [
    {
      "cell_type": "markdown",
      "metadata": {
        "id": "view-in-github",
        "colab_type": "text"
      },
      "source": [
        "<a href=\"https://colab.research.google.com/github/zhangyu13141/Adapted-Center-and-Scale-Prediction/blob/master/Untitled16.ipynb\" target=\"_parent\"><img src=\"https://colab.research.google.com/assets/colab-badge.svg\" alt=\"Open In Colab\"/></a>"
      ]
    },
    {
      "cell_type": "code",
      "metadata": {
        "id": "Fjr4OtQWLccE"
      },
      "source": [
        "!nvidia-smi"
      ],
      "execution_count": null,
      "outputs": []
    },
    {
      "cell_type": "code",
      "metadata": {
        "id": "M9hO6artLiNj"
      },
      "source": [
        "cd \"/content/drive/MyDrive/czxcjc\""
      ],
      "execution_count": null,
      "outputs": []
    },
    {
      "cell_type": "code",
      "metadata": {
        "id": "YR3lusIHUENj"
      },
      "source": [
        "!wget https://tianchi-competition.oss-cn-hangzhou.aliyuncs.com/531846/tile_round1_train_20201231.zip                                                                                          "
      ],
      "execution_count": null,
      "outputs": []
    },
    {
      "cell_type": "code",
      "metadata": {
        "id": "95RxZEiz9M5J"
      },
      "source": [
        "!wget https://tianchi-competition.oss-cn-hangzhou.aliyuncs.com/531846/tile_round1_testA_20201231.zip"
      ],
      "execution_count": null,
      "outputs": []
    },
    {
      "cell_type": "code",
      "metadata": {
        "id": "gQQghuKYle46"
      },
      "source": [
        "import torch.nn as nn\r\n",
        "class Net(nn.Module):\r\n",
        "    def __init__(self):\r\n",
        "        super(Net,self).__init__()\r\n",
        "        resnet= torch.hub.load('zhanghang1989/ResNeSt', 'resnest50', pretrained=True)\r\n",
        "        self.conv1 = resnet.conv1\r\n",
        "        self.bn1 = resnet.bn1\r\n",
        "        self.relu = resnet.relu\r\n",
        "        self.maxpool = resnet.maxpool\r\n",
        "        \r\n",
        "        self.layer1 = resnet.layer1\r\n",
        "        self.layer2 = resnet.layer2\r\n",
        "        self.layer3 = resnet.layer3\r\n",
        "        self.layer4 = resnet.layer4\r\n",
        "        \r\n",
        "        self.avgpool = resnet.avgpool\r\n",
        "        self.drop = resnet.drop\r\n",
        "        self.fc = nn.Linear(2048, 5)\r\n",
        "        \r\n",
        "    def forward(x):\r\n",
        "        x=self.conv1(x)\r\n",
        "        x=self.bn1(x)\r\n",
        "        x=self.relu(x)\r\n",
        "        x=self.maxpool(x)\r\n",
        "        x=self.layer1(x)\r\n",
        "        x=self.layer2(x)\r\n",
        "        x=self.layer3(x)\r\n",
        "        x=self.layer4(x)\r\n",
        "        x=self.avgpool(x)\r\n",
        "        x = torch.flatten(x, 1)\r\n",
        "        x = self.drop(x)\r\n",
        "        print(x.shape)\r\n",
        "        x=self.fc(x)\r\n",
        "        return x\r\n",
        "        \r\n",
        "\r\n",
        "net=Net()\r\n",
        "print(net)"
      ],
      "execution_count": null,
      "outputs": []
    },
    {
      "cell_type": "code",
      "metadata": {
        "id": "HgkV_t_wtcNc"
      },
      "source": [
        "!nvidia-smi"
      ],
      "execution_count": null,
      "outputs": []
    },
    {
      "cell_type": "code",
      "metadata": {
        "colab": {
          "base_uri": "https://localhost:8080/"
        },
        "id": "va1IEc3DzhGs",
        "outputId": "f6dff0a4-48cc-49cf-e28a-c9bd2babbd0f"
      },
      "source": [
        "cd \"/content/drive/MyDrive/czxcjc\""
      ],
      "execution_count": null,
      "outputs": [
        {
          "output_type": "stream",
          "text": [
            "/content/drive/MyDrive/czxcjc\n"
          ],
          "name": "stdout"
        }
      ]
    },
    {
      "cell_type": "code",
      "metadata": {
        "id": "ZoDnMZx310D9"
      },
      "source": [
        "!unzip \"/content/drive/MyDrive/czxcjc/tile_round1_train_20201231.zip\""
      ],
      "execution_count": null,
      "outputs": []
    },
    {
      "cell_type": "code",
      "metadata": {
        "id": "gEpwHtSI130S"
      },
      "source": [
        "!unzip /content/drive/MyDrive/czxcjc/tile_round1_testA_20201231.zip"
      ],
      "execution_count": null,
      "outputs": []
    },
    {
      "cell_type": "code",
      "metadata": {
        "id": "Je8lKTh417jd",
        "colab": {
          "base_uri": "https://localhost:8080/"
        },
        "outputId": "58995df7-f6f7-4bd1-f5b9-3159bd4720c2"
      },
      "source": [
        "cd \"/content/drive/MyDrive/acsp-hazy\""
      ],
      "execution_count": null,
      "outputs": [
        {
          "output_type": "stream",
          "text": [
            "/content/drive/MyDrive/acsp-hazy\n"
          ],
          "name": "stdout"
        }
      ]
    },
    {
      "cell_type": "code",
      "metadata": {
        "id": "pG2gDc5ReLiE",
        "colab": {
          "base_uri": "https://localhost:8080/"
        },
        "outputId": "c2a6b7f0-bdc2-4e67-87cf-3f2f229886bb"
      },
      "source": [
        "!git clone https://github.com/WangWenhao0716/Adapted-Center-and-Scale-Prediction.git"
      ],
      "execution_count": null,
      "outputs": [
        {
          "output_type": "stream",
          "text": [
            "Cloning into 'Adapted-Center-and-Scale-Prediction'...\n",
            "remote: Enumerating objects: 59, done.\u001b[K\n",
            "remote: Counting objects: 100% (59/59), done.\u001b[K\n",
            "remote: Compressing objects: 100% (59/59), done.\u001b[K\n",
            "remote: Total 410 (delta 31), reused 0 (delta 0), pack-reused 351\u001b[K\n",
            "Receiving objects: 100% (410/410), 1.02 MiB | 14.07 MiB/s, done.\n",
            "Resolving deltas: 100% (158/158), done.\n"
          ],
          "name": "stdout"
        }
      ]
    },
    {
      "cell_type": "code",
      "metadata": {
        "id": "lhHDL5sLXwbR"
      },
      "source": [
        "mv \"/content/scsp\" \"/content/drive/MyDrive\""
      ],
      "execution_count": null,
      "outputs": []
    },
    {
      "cell_type": "code",
      "metadata": {
        "id": "XKvsqr_HX92k"
      },
      "source": [
        ""
      ],
      "execution_count": null,
      "outputs": []
    }
  ]
}